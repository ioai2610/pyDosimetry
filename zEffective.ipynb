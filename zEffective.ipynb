{
 "cells": [
  {
   "cell_type": "code",
   "execution_count": 3,
   "id": "cb3a8b5e",
   "metadata": {},
   "outputs": [],
   "source": [
    "def zeff(n,m):\n",
    "    import numpy as np\n",
    "    #n = int(input('Ingresa la cantidad de elementos: '))\n",
    "    sum = 0 \n",
    "    for i in range(n):\n",
    "        f = float(input(f'Ingresa la fracción de electrones relativa del elemento {int(i)+1}: '))\n",
    "        z = float(input(f'Ingresa el número atómico del elemento {int(i)+1}: '))\n",
    "        sum += f*z**m\n",
    "    res = np.power(sum,1/m)\n",
    "    res = round(res,2)\n",
    "    return res"
   ]
  },
  {
   "cell_type": "code",
   "execution_count": 4,
   "id": "dc794e2a",
   "metadata": {},
   "outputs": [
    {
     "name": "stdout",
     "output_type": "stream",
     "text": [
      "Ingresa la fracción de electrones relativa del elemento 1: 0.11\n",
      "Ingresa el número atómico del elemento 1: 1\n",
      "Ingresa la fracción de electrones relativa del elemento 2: 0.88\n",
      "Ingresa el número atómico del elemento 2: 8\n"
     ]
    },
    {
     "data": {
      "text/plain": [
       "7.66"
      ]
     },
     "execution_count": 4,
     "metadata": {},
     "output_type": "execute_result"
    }
   ],
   "source": [
    "zeff(2,2.94)"
   ]
  },
  {
   "cell_type": "code",
   "execution_count": null,
   "id": "38f46c35",
   "metadata": {},
   "outputs": [],
   "source": []
  }
 ],
 "metadata": {
  "kernelspec": {
   "display_name": "Python 3 (ipykernel)",
   "language": "python",
   "name": "python3"
  },
  "language_info": {
   "codemirror_mode": {
    "name": "ipython",
    "version": 3
   },
   "file_extension": ".py",
   "mimetype": "text/x-python",
   "name": "python",
   "nbconvert_exporter": "python",
   "pygments_lexer": "ipython3",
   "version": "3.9.7"
  }
 },
 "nbformat": 4,
 "nbformat_minor": 5
}
